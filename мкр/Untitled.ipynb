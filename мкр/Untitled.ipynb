{
 "cells": [
  {
   "cell_type": "markdown",
   "id": "1a95b7b8",
   "metadata": {},
   "source": [
    "<img src=\"2.png\" />\n",
    "\n",
    "<center>\n",
    "    <h2>МОДУЛЬНА КОНТРОЛЬНА РОБОТА </h2>\n",
    "    <br>\n",
    "    <h4>Варіант№6</h4>\n",
    "</center>"
   ]
  },
  {
   "cell_type": "code",
   "execution_count": null,
   "id": "e4358e86",
   "metadata": {},
   "outputs": [],
   "source": [
    "import matplotlib.pyplot as plt\n",
    "import numpy as np\n"
   ]
  },
  {
   "cell_type": "code",
   "execution_count": null,
   "id": "615651ea",
   "metadata": {},
   "outputs": [],
   "source": [
    "# ---------------------------------\n",
    "def without_3_7(num):\n",
    "    num_str = str(num)\n",
    "    return '3' not in num_str and '7' not in num_str\n",
    "\n",
    "def f_points(n):\n",
    "    \"\"\"Генерує точки для фракталу.\"\"\"\n",
    "    x_y_points = [[], []]\n",
    "\n",
    "    for i in range(n):\n",
    "        x = np.random.random()\n",
    "        y = np.random.random()\n",
    "        if without_3_7(int(x * 1e6)) and without_3_7(int(y * 1e6)):\n",
    "            x_y_points[0].append(x)\n",
    "            x_y_points[1].append(y)\n",
    "\n",
    "    return x_y_points\n"
   ]
  },
  {
   "cell_type": "code",
   "execution_count": null,
   "id": "36f58ff3",
   "metadata": {},
   "outputs": [],
   "source": [
    "# Параметри\n",
    "num = 100000\n",
    "x, y = f_points(num)\n",
    "\n",
    "# ---------------------------------\n",
    "\n",
    "plt.figure(figsize=(10, 10))\n",
    "plt.scatter(x, y, s=0.1, color='blue')\n",
    "plt.title(\"Fractal without {3}/{7}\")\n",
    "plt.show()\n"
   ]
  },
  {
   "cell_type": "code",
   "execution_count": null,
   "id": "c31adb9b",
   "metadata": {},
   "outputs": [],
   "source": [
    "# ---------------------------------\n",
    "# Обчислення фрактальної розмірності методом коробок\n",
    "\n",
    "def box_counting_dimension(x, y, epsilons):\n",
    "    N_eps = []\n",
    "    for epsilon in epsilons:\n",
    "        bins = [np.arange(0, 1 + epsilon, epsilon), np.arange(0, 1 + epsilon, epsilon)]\n",
    "        H, edges = np.histogramdd(np.column_stack((x, y)), bins=bins)\n",
    "        N_eps.append(np.sum(H > 0))\n",
    "\n",
    "    log_eps = np.log(1 / np.array(epsilons))\n",
    "    log_N = np.log(N_eps)\n",
    "\n",
    "    # Знаходимо нахил лінії (фрактальна розмірність)\n",
    "    coeffs = np.polyfit(log_eps, log_N, 1)\n",
    "    return coeffs[0]\n",
    "\n",
    "# Вибираємо значення epsilon\n",
    "epsilons = np.logspace(-4, -1, 10)\n",
    "\n",
    "# Обчислюємо фрактальну розмірність\n",
    "print(f\"Фрактальна розмірність: {box_counting_dimension(x, y, epsilons)}\") # 0.5693987403547239"
   ]
  }
 ],
 "metadata": {
  "kernelspec": {
   "display_name": "Python 3 (ipykernel)",
   "language": "python",
   "name": "python3"
  },
  "language_info": {
   "codemirror_mode": {
    "name": "ipython",
    "version": 3
   },
   "file_extension": ".py",
   "mimetype": "text/x-python",
   "name": "python",
   "nbconvert_exporter": "python",
   "pygments_lexer": "ipython3",
   "version": "3.11.5"
  }
 },
 "nbformat": 4,
 "nbformat_minor": 5
}
